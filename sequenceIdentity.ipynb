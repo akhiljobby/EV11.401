{
 "cells": [
  {
   "cell_type": "code",
   "execution_count": 17,
   "metadata": {},
   "outputs": [
    {
     "data": {
      "text/plain": [
       "178"
      ]
     },
     "execution_count": 17,
     "metadata": {},
     "output_type": "execute_result"
    }
   ],
   "source": [
    "import Bio\n",
    "import collections\n",
    "\n",
    "entries = defaultdict(list)\n",
    "\n",
    "# below: 199.fasta is the input file with 199 sequences in fasta format\n",
    "for items in SeqIO.parse(\"199.fasta\", \"fasta\"):\n",
    "    \n",
    "    entries[str(items.seq)].append(items.id)  # # Sequence as key and list of id as value\n",
    "    #print(entries[str(items.seq)])\n",
    "\n",
    "# below is generator\n",
    "#sequences = (SeqRecord(Seq(x, IUPAC.protein), id=\"|\".join(gi), name='', description='') for x, gi in entries.items())\n",
    "#print(sequence)\n",
    "# below is list of sequences\n",
    "sequences=[SeqRecord(Seq(x, IUPAC.protein), id=\"|\".join(gi), name='', description='') for x, gi in entries.items()]\n",
    "\n",
    "SeqIO.write(sequences, '199fastaSequenceIdentity.fasta', 'fasta')"
   ]
  },
  {
   "cell_type": "code",
   "execution_count": null,
   "metadata": {},
   "outputs": [],
   "source": []
  }
 ],
 "metadata": {
  "kernelspec": {
   "display_name": "Python 3",
   "language": "python",
   "name": "python3"
  },
  "language_info": {
   "codemirror_mode": {
    "name": "ipython",
    "version": 3
   },
   "file_extension": ".py",
   "mimetype": "text/x-python",
   "name": "python",
   "nbconvert_exporter": "python",
   "pygments_lexer": "ipython3",
   "version": "3.6.7"
  }
 },
 "nbformat": 4,
 "nbformat_minor": 2
}

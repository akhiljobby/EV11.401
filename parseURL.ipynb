{
 "cells": [
  {
   "cell_type": "code",
   "execution_count": 2,
   "metadata": {
    "scrolled": false
   },
   "outputs": [
    {
     "name": "stdout",
     "output_type": "stream",
     "text": [
      "['1QJP', '1BXW', '1G90', '2F1T', '2F1V', '1QJ8', '1Q9F', '1P4T', '1THQ', '1MM4', '1MM5', '1I78', '1K24', '1TLW', '1TLY', '1UYN', '1QD6', '2IWW', '2F1C', '1T16', '1T1L', '4N75', '4K3B', '1E54', '2POR', '1PRN', '2OMF', '1PHO', '1OSM', '1MAL', '1AF6', '2MPR', '1A0S', '1A0T', '2K4T', '2JK4', '2FCP', '1BY3', '1FEP', '1KMO', '1PNZ', '1NQE', '1UJW', '1XKH', '3OHN', '3RFZ', '2VQI', '4Q35', '1EK9', '1UUN', '7AHL']\n"
     ]
    }
   ],
   "source": [
    "\n",
    "# Import modules\n",
    "from xml.dom import minidom\n",
    "from urllib.request import urlopen\n",
    "\n",
    "\n",
    "urlP2= 'https://api.elsevier.com/content/article/doi/10.1016/j.bbamem.2015.05.004' # define XML location\n",
    "\n",
    "#urlP2= 'https://api.elsevier.com/content/article/doi/10.1016/j.sbi.2011.05.005'\n",
    "\n",
    "dom = minidom.parse(urlopen(urlP2)) # parse the data\n",
    "inter_ref = dom.getElementsByTagName('inter-ref')\n",
    "\n",
    "list=[]\n",
    "x=0\n",
    "for items in inter_ref:\n",
    "    inter_ref = dom.getElementsByTagName('inter-ref')\n",
    "    inter_ref= (inter_ref[x].attributes['xlink:href'].value)\n",
    "    list.append(inter_ref)\n",
    "    x = x + 1\n",
    "\n",
    "newList=[i.split(\":\")[-1] for i in list]\n",
    "print(newList)"
   ]
  },
  {
   "cell_type": "code",
   "execution_count": 6,
   "metadata": {},
   "outputs": [
    {
     "data": {
      "text/plain": [
       "list"
      ]
     },
     "execution_count": 6,
     "metadata": {},
     "output_type": "execute_result"
    }
   ],
   "source": [
    "type(list)"
   ]
  },
  {
   "cell_type": "code",
   "execution_count": 128,
   "metadata": {},
   "outputs": [
    {
     "name": "stdout",
     "output_type": "stream",
     "text": [
      "{'pdb:1QJP'}\n"
     ]
    }
   ],
   "source": [
    "neb=set()\n",
    "neb.update([inter_ref])\n",
    "print(neb)"
   ]
  },
  {
   "cell_type": "code",
   "execution_count": null,
   "metadata": {},
   "outputs": [],
   "source": []
  }
 ],
 "metadata": {
  "kernelspec": {
   "display_name": "Python 3",
   "language": "python",
   "name": "python3"
  },
  "language_info": {
   "codemirror_mode": {
    "name": "ipython",
    "version": 3
   },
   "file_extension": ".py",
   "mimetype": "text/x-python",
   "name": "python",
   "nbconvert_exporter": "python",
   "pygments_lexer": "ipython3",
   "version": "3.6.7"
  }
 },
 "nbformat": 4,
 "nbformat_minor": 2
}
